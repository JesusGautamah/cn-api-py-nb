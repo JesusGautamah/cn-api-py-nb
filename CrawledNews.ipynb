{
  "nbformat": 4,
  "nbformat_minor": 0,
  "metadata": {
    "colab": {
      "name": "CrawledNews.ipynb",
      "provenance": [],
      "collapsed_sections": [],
      "authorship_tag": "ABX9TyOWP+MlT4/ESxfkoaiS1A41",
      "include_colab_link": true
    },
    "kernelspec": {
      "name": "python3",
      "display_name": "Python 3"
    },
    "language_info": {
      "name": "python"
    }
  },
  "cells": [
    {
      "cell_type": "markdown",
      "metadata": {
        "id": "view-in-github",
        "colab_type": "text"
      },
      "source": [
        "<a href=\"https://colab.research.google.com/github/JesusGautamah/cn-api-py-nb/blob/main/CrawledNews.ipynb\" target=\"_parent\"><img src=\"https://colab.research.google.com/assets/colab-badge.svg\" alt=\"Open In Colab\"/></a>"
      ]
    },
    {
      "cell_type": "markdown",
      "metadata": {
        "id": "LCVgoavfL2qL"
      },
      "source": [
        "#**Consumindo Crawled News API**"
      ]
    },
    {
      "cell_type": "markdown",
      "metadata": {
        "id": "rxzUNJvjMDBN"
      },
      "source": [
        "##Requisitos"
      ]
    },
    {
      "cell_type": "code",
      "metadata": {
        "id": "Wx-P8QtsYFme"
      },
      "source": [
        "import numpy as np\n",
        "import matplotlib.pyplot as plt\n",
        "import pandas as pd\n",
        "from tqdm import tqdm\n",
        "import requests\n",
        "import json \n",
        "import time\n",
        "from datetime import datetime\n",
        "from pandas.plotting import register_matplotlib_converters\n",
        "\n",
        "\n",
        "\n",
        "register_matplotlib_converters()\n",
        "\n",
        "pd.set_option('display.max_colwidth',1000)"
      ],
      "execution_count": 1,
      "outputs": []
    },
    {
      "cell_type": "markdown",
      "metadata": {
        "id": "NzeC95YYMKb2"
      },
      "source": [
        "##**Exemplos de filtros e pesquisa, realizando coleta de dados da pagina root da api, transfomando colunas publish_date e created_at no formato datetime**"
      ]
    },
    {
      "cell_type": "code",
      "metadata": {
        "id": "hk2VBd_ppizz"
      },
      "source": [
        "# ------------------ EXEMPLOS ---------------------\n",
        "# url = \"https://crawler-news.herokuapp.com/api/v1/crawled_news?start=10-03-2021\" Period Filter\n",
        "# url = \"https://crawler-news.herokuapp.com/api/v1/crawled_news?end=10-03-2019\" Period Filter\n",
        "# url = \"https://crawler-news.herokuapp.com/api/v1/crawled_news?start=01-09-2020&end=31-10-2020\" #Period Filter\n",
        "# url = \"https://crawler-news.herokuapp.com/api/v1/crawled_news?text_search=São+Paulo\" Like\n",
        "# url = \"https://crawler-news.herokuapp.com/api/v1/crawled_news?title_search=São+Paulo\" Like \n",
        "# url = \"https://crawler-news.herokuapp.com/api/v1/crawled_news?full_text=artista\" Full Text\n",
        "# url = \"https://crawler-news.herokuapp.com/api/v1/crawled_news/:id\" object return by id\n",
        "\n",
        "\n",
        "# Pegando url\n",
        "url = \"https://crawler-news.herokuapp.com/api/v1/\"\n",
        "\n",
        "# Realizando request e solicitando a saida em json\n",
        "JSONContent = requests.get(url).json()\n",
        "\n",
        "# Realizando dump do json\n",
        "content = json.dumps(JSONContent, indent = 4, sort_keys=True)\n",
        "\n",
        "# Transformando em string\n",
        "x = str(content)\n",
        "\n",
        "# transformando em dict\n",
        "dictdump = json.loads(x)\n",
        "\n",
        "\n",
        "\n",
        "# criando dataframe\n",
        "df = pd.DataFrame(dictdump)\n",
        "\n",
        "# transformando colunas em datetime\n",
        "df['publish_date'] = pd.to_datetime(df['publish_date'])\n",
        "df['created_at'] = pd.to_datetime(df['created_at'])\n"
      ],
      "execution_count": 2,
      "outputs": []
    },
    {
      "cell_type": "markdown",
      "metadata": {
        "id": "pqANcbyrN0S-"
      },
      "source": [
        "\n",
        "\n",
        "##**Observação dos dados**\n",
        "\n"
      ]
    },
    {
      "cell_type": "code",
      "metadata": {
        "colab": {
          "base_uri": "https://localhost:8080/"
        },
        "id": "kxjGiGuDzB3q",
        "outputId": "64bd69f4-27ef-478a-b088-b0ce5efbaa0c"
      },
      "source": [
        "# Observação\n",
        "print(\"A noticia coletada de publicação main recente:\", max(df['publish_date']))\n",
        "\n",
        "\n",
        "print(\"A noticia coletada de publicação mais antiga:\", min(df['publish_date']))"
      ],
      "execution_count": 3,
      "outputs": [
        {
          "output_type": "stream",
          "name": "stdout",
          "text": [
            "A noticia coletada de publicação main recente: 2021-10-02 00:00:00\n",
            "A noticia coletada de publicação mais antiga: 2015-05-05 00:00:00\n"
          ]
        }
      ]
    },
    {
      "cell_type": "markdown",
      "metadata": {
        "id": "5ZdSgFteOGmZ"
      },
      "source": [
        "##**Verificando títulos**"
      ]
    },
    {
      "cell_type": "code",
      "metadata": {
        "colab": {
          "base_uri": "https://localhost:8080/"
        },
        "id": "Ux9cuP0hu2i-",
        "outputId": "1834d0fb-7cdb-45d9-962b-f3b1d80d537c"
      },
      "source": [
        "df[\"title\"]"
      ],
      "execution_count": 4,
      "outputs": [
        {
          "output_type": "execute_result",
          "data": {
            "text/plain": [
              "0                                                                                          Interior de São Paulo terá novo trem turístico                                        \n",
              "1                                                                                              Como estimular o turismo náutico no Brasil                                        \n",
              "2                                                                           Shopping popular será referência para o turista em Rio Branco                                        \n",
              "3                                                                             Rede hoteleira pede apoio para cumprir plano de crescimento                                        \n",
              "4                                                                          Ações de sustentabilidade rendem prêmio a meios de hospedagem                                         \n",
              "                                                                                          ...                                                                                    \n",
              "5000                                                              Concessão de aeroportos no Norte do país impulsionará turismo na região                                        \n",
              "5001                                                Ministério do Turismo oferta curso de empreendedorismo para profissionais do Maranhão                                        \n",
              "5002                                                              MTur realiza segunda live do novo seminário virtual “Visões de Mercado”                                        \n",
              "5003                                                                                     Governo brasileiro autoriza retorno de cruzeiros                                        \n",
              "5004                                                         Na Expo Dubai, Brasil encaminha acordo no turismo com Eslovênia e San Marino                                        \n",
              "Name: title, Length: 5005, dtype: object"
            ]
          },
          "metadata": {},
          "execution_count": 4
        }
      ]
    },
    {
      "cell_type": "markdown",
      "metadata": {
        "id": "reY56hCqOQoZ"
      },
      "source": [
        "##**Publicações por dia**\n"
      ]
    },
    {
      "cell_type": "code",
      "metadata": {
        "colab": {
          "base_uri": "https://localhost:8080/"
        },
        "id": "wkXBqBn8sDpD",
        "outputId": "cf33333d-af9a-4274-c19e-a583150f59be"
      },
      "source": [
        "print(\"Quanta publicações foram feitas em cada dia listado\\n\",df[\"publish_date\"].value_counts())"
      ],
      "execution_count": 5,
      "outputs": [
        {
          "output_type": "stream",
          "name": "stdout",
          "text": [
            "Quanta publicações foram feitas em cada dia listado\n",
            " 2021-04-28    31\n",
            "2020-10-16    31\n",
            "2016-07-12    31\n",
            "2018-04-13    30\n",
            "2015-08-25    29\n",
            "              ..\n",
            "2017-12-13     1\n",
            "2020-03-02     1\n",
            "2017-09-01     1\n",
            "2021-02-03     1\n",
            "2019-08-12     1\n",
            "Name: publish_date, Length: 1624, dtype: int64\n"
          ]
        }
      ]
    },
    {
      "cell_type": "markdown",
      "metadata": {
        "id": "vdk8NTtz2MPS"
      },
      "source": [
        "##**Numero de publicações por meses e ano**"
      ]
    },
    {
      "cell_type": "code",
      "metadata": {
        "colab": {
          "base_uri": "https://localhost:8080/"
        },
        "id": "yJNdLtNk1Dsq",
        "outputId": "cb5311bd-0285-4726-d34f-e5618a3f9c65"
      },
      "source": [
        "df['publish_date'].groupby([df['publish_date'].dt.year, df['publish_date'].dt.month]).agg('count')"
      ],
      "execution_count": 6,
      "outputs": [
        {
          "output_type": "execute_result",
          "data": {
            "text/plain": [
              "publish_date  publish_date\n",
              "2015          5                76\n",
              "              6                73\n",
              "              7                76\n",
              "              8               101\n",
              "              9                77\n",
              "                             ... \n",
              "2021          6                87\n",
              "              7                95\n",
              "              8               105\n",
              "              9                90\n",
              "              10               10\n",
              "Name: publish_date, Length: 78, dtype: int64"
            ]
          },
          "metadata": {},
          "execution_count": 6
        }
      ]
    },
    {
      "cell_type": "markdown",
      "metadata": {
        "id": "zh3dAKK6qOSq"
      },
      "source": [
        "#**Grafico de frequencia de publicação**"
      ]
    },
    {
      "cell_type": "code",
      "metadata": {
        "colab": {
          "base_uri": "https://localhost:8080/",
          "height": 272
        },
        "id": "Fdk2sBxBphYr",
        "outputId": "36e8ed1d-90b6-47fa-a886-d360a4edfeea"
      },
      "source": [
        "df['publish_date'].value_counts().plot()"
      ],
      "execution_count": 7,
      "outputs": [
        {
          "output_type": "execute_result",
          "data": {
            "text/plain": [
              "<matplotlib.axes._subplots.AxesSubplot at 0x7fdf3ecb1810>"
            ]
          },
          "metadata": {},
          "execution_count": 7
        },
        {
          "output_type": "display_data",
          "data": {
            "image/png": "[encoded data removed]",
            "text/plain": [
              "<Figure size 432x288 with 1 Axes>"
            ]
          },
          "metadata": {
            "needs_background": "light"
          }
        }
      ]
    },
    {
      "cell_type": "markdown",
      "metadata": {
        "id": "fUdV1Wg-OrDu"
      },
      "source": [
        "#**Minerando dados no metodo show com barra de progresso(Não recomendado, utilize pesquisa e filtragem)**"
      ]
    },
    {
      "cell_type": "code",
      "metadata": {
        "colab": {
          "base_uri": "https://localhost:8080/"
        },
        "id": "FG_i1gBsdP77",
        "outputId": "5270e6e0-801f-48b7-a27e-a2203841d9c7"
      },
      "source": [
        "i = 1\n",
        "\n",
        "l = 1000\n",
        "\n",
        "x = 100\n",
        "\n",
        "\n",
        "crawled_news = []\n",
        "\n",
        "for i in tqdm(range(x)):\n",
        "  url = \"https://crawler-news.herokuapp.com/api/v1/crawled_news/\"+ str(l)\n",
        "  JSONContent = requests.get(url).json()\n",
        "  crawled_news.append([JSONContent['id'], JSONContent['created_at'], JSONContent['publish_date'],JSONContent['title'], JSONContent['subtitle']])\n",
        "  l += 1\n",
        "  time.sleep(1)\n",
        "\n"
      ],
      "execution_count": 8,
      "outputs": [
        {
          "output_type": "stream",
          "name": "stderr",
          "text": [
            "100%|██████████| 100/100 [01:53<00:00,  1.14s/it]\n"
          ]
        }
      ]
    },
    {
      "cell_type": "markdown",
      "metadata": {
        "id": "x0EmJH3VB-kU"
      },
      "source": [
        "##**Iniciando dataframe 2 e renomeando colunas**"
      ]
    },
    {
      "cell_type": "code",
      "metadata": {
        "colab": {
          "base_uri": "https://localhost:8080/",
          "height": 606
        },
        "id": "cfO96m0kdQGy",
        "outputId": "6c47d2c4-4f50-4e63-b5ba-74f6712ba66c"
      },
      "source": [
        "df_2 = pd.DataFrame(crawled_news)\n",
        "df_2.columns = ['Id', 'Coletado em', 'Publicado Em', 'Titulo', 'Subtitulo']\n",
        "df_2"
      ],
      "execution_count": 9,
      "outputs": [
        {
          "output_type": "execute_result",
          "data": {
            "text/html": [
              "<div>\n",
              "<style scoped>\n",
              "    .dataframe tbody tr th:only-of-type {\n",
              "        vertical-align: middle;\n",
              "    }\n",
              "\n",
              "    .dataframe tbody tr th {\n",
              "        vertical-align: top;\n",
              "    }\n",
              "\n",
              "    .dataframe thead th {\n",
              "        text-align: right;\n",
              "    }\n",
              "</style>\n",
              "<table border=\"1\" class=\"dataframe\">\n",
              "  <thead>\n",
              "    <tr style=\"text-align: right;\">\n",
              "      <th></th>\n",
              "      <th>Id</th>\n",
              "      <th>Coletado em</th>\n",
              "      <th>Publicado Em</th>\n",
              "      <th>Titulo</th>\n",
              "      <th>Subtitulo</th>\n",
              "    </tr>\n",
              "  </thead>\n",
              "  <tbody>\n",
              "    <tr>\n",
              "      <th>0</th>\n",
              "      <td>1000</td>\n",
              "      <td>2021-10-03T13:43:30.326Z</td>\n",
              "      <td>2020-10-16</td>\n",
              "      <td>Novos empreendimentos turísticos mostram confiança de investidores no país</td>\n",
              "      <td>Atrações como parques e rodas-gigantes ajudam a fomentar o turismo, recuperar a economia e gerar emprego e renda à população</td>\n",
              "    </tr>\n",
              "    <tr>\n",
              "      <th>1</th>\n",
              "      <td>1001</td>\n",
              "      <td>2021-10-03T13:43:34.551Z</td>\n",
              "      <td>2020-10-15</td>\n",
              "      <td>Municípios têm até sábado para pleitearem recursos da Lei Aldir Blanc</td>\n",
              "      <td>Ministério do Turismo já repassou R$ 2,6 bilhões para apoiar a cultura em todo o Brasil</td>\n",
              "    </tr>\n",
              "    <tr>\n",
              "      <th>2</th>\n",
              "      <td>1002</td>\n",
              "      <td>2021-10-03T13:43:38.083Z</td>\n",
              "      <td>2020-10-15</td>\n",
              "      <td>Brasil e Paraguai reabrem fronteiras para circulação de pessoas</td>\n",
              "      <td>Medida, que inclui a Ponte da Amizade, vai impulsionar o fluxo de visitantes internacionais ao nosso país</td>\n",
              "    </tr>\n",
              "    <tr>\n",
              "      <th>3</th>\n",
              "      <td>1003</td>\n",
              "      <td>2021-10-03T13:43:42.445Z</td>\n",
              "      <td>2020-10-15</td>\n",
              "      <td>João Pessoa terá maior polo turístico planejado do Nordeste</td>\n",
              "      <td>Empreendimento contribuirá para o fortalecimento da atividade turística no estado e na região</td>\n",
              "    </tr>\n",
              "    <tr>\n",
              "      <th>4</th>\n",
              "      <td>1004</td>\n",
              "      <td>2021-10-03T13:43:45.846Z</td>\n",
              "      <td>2020-10-15</td>\n",
              "      <td>Pelo quarto mês seguido, índice de atividades turísticas cresce no país</td>\n",
              "      <td>Número teve alta de 19,3% entre julho e agosto e já acumula crescimento de 63,4%</td>\n",
              "    </tr>\n",
              "    <tr>\n",
              "      <th>...</th>\n",
              "      <td>...</td>\n",
              "      <td>...</td>\n",
              "      <td>...</td>\n",
              "      <td>...</td>\n",
              "      <td>...</td>\n",
              "    </tr>\n",
              "    <tr>\n",
              "      <th>95</th>\n",
              "      <td>1095</td>\n",
              "      <td>2021-10-03T13:52:19.989Z</td>\n",
              "      <td>2020-09-09</td>\n",
              "      <td>Lei que concede crédito de R$ 5 bi para o turismo na pandemia é sancionada</td>\n",
              "      <td>Texto publicado no Diário Oficial da União nesta quarta-feira é resultado de Medida Provisória apresentada pelo Ministério do Turismo</td>\n",
              "    </tr>\n",
              "    <tr>\n",
              "      <th>96</th>\n",
              "      <td>1096</td>\n",
              "      <td>2021-10-03T13:52:21.300Z</td>\n",
              "      <td>2020-09-09</td>\n",
              "      <td>Restauração em santuário de Ouro Preto (MG) revela elementos históricos</td>\n",
              "      <td>Ministro do Turismo, Marcelo Álvaro Antônio, visitou obras da igreja N. Sra. da Conceição&amp;nbsp;que conta&amp;nbsp;com recursos do IPHAN</td>\n",
              "    </tr>\n",
              "    <tr>\n",
              "      <th>97</th>\n",
              "      <td>1097</td>\n",
              "      <td>2021-10-03T13:52:24.702Z</td>\n",
              "      <td>2020-09-09</td>\n",
              "      <td>Governo Federal reabre parques nacionais no Piauí</td>\n",
              "      <td>Unidades da Serra da Capivara e de Sete Cidades estão disponíveis ao público com medidas de prevenção ao coronavírus</td>\n",
              "    </tr>\n",
              "    <tr>\n",
              "      <th>98</th>\n",
              "      <td>1098</td>\n",
              "      <td>2021-10-03T13:52:27.680Z</td>\n",
              "      <td>2020-09-08</td>\n",
              "      <td>Feriado registra alta taxa de ocupação hoteleira no país</td>\n",
              "      <td>Obedecendo a protocolos de segurança sanitária, estabelecimentos registraram até 100% da capacidade atendida por turistas</td>\n",
              "    </tr>\n",
              "    <tr>\n",
              "      <th>99</th>\n",
              "      <td>1099</td>\n",
              "      <td>2021-10-03T13:52:29.012Z</td>\n",
              "      <td>2020-09-08</td>\n",
              "      <td>São Luís (MA): Ilha do Amor completa 408 anos</td>\n",
              "      <td>Após quatro séculos, a capital do Maranhão mantém suas tradições vivas e se tornou um polo turístico e cultural</td>\n",
              "    </tr>\n",
              "  </tbody>\n",
              "</table>\n",
              "<p>100 rows × 5 columns</p>\n",
              "</div>"
            ],
            "text/plain": [
              "      Id  ...                                                                                                                                                                                                                                                              Subtitulo\n",
              "0   1000  ...                                                                                                   Atrações como parques e rodas-gigantes ajudam a fomentar o turismo, recuperar a economia e gerar emprego e renda à população                                        \n",
              "1   1001  ...                                                                                                                                        Ministério do Turismo já repassou R$ 2,6 bilhões para apoiar a cultura em todo o Brasil                                        \n",
              "2   1002  ...                                                                                                                      Medida, que inclui a Ponte da Amizade, vai impulsionar o fluxo de visitantes internacionais ao nosso país                                        \n",
              "3   1003  ...                                                                                                                                  Empreendimento contribuirá para o fortalecimento da atividade turística no estado e na região                                        \n",
              "4   1004  ...                                                                                                                                               Número teve alta de 19,3% entre julho e agosto e já acumula crescimento de 63,4%                                        \n",
              "..   ...  ...                                                                                                                                                                                                                                                                    ...\n",
              "95  1095  ...                                                                                          Texto publicado no Diário Oficial da União nesta quarta-feira é resultado de Medida Provisória apresentada pelo Ministério do Turismo                                        \n",
              "96  1096  ...                                                                                            Ministro do Turismo, Marcelo Álvaro Antônio, visitou obras da igreja N. Sra. da Conceição&nbsp;que conta&nbsp;com recursos do IPHAN                                        \n",
              "97  1097  ...                                                                                                           Unidades da Serra da Capivara e de Sete Cidades estão disponíveis ao público com medidas de prevenção ao coronavírus                                        \n",
              "98  1098  ...                                                                                                      Obedecendo a protocolos de segurança sanitária, estabelecimentos registraram até 100% da capacidade atendida por turistas                                        \n",
              "99  1099  ...                                                                                                                Após quatro séculos, a capital do Maranhão mantém suas tradições vivas e se tornou um polo turístico e cultural                                        \n",
              "\n",
              "[100 rows x 5 columns]"
            ]
          },
          "metadata": {},
          "execution_count": 9
        }
      ]
    },
    {
      "cell_type": "markdown",
      "metadata": {
        "id": "QbU0b7Q0CKJm"
      },
      "source": [
        "##**Convertendo 'Publicado Em' para o formato datetime e imprimindo grafico de quantidade de publicações entre os dados do dataframe df_2**"
      ]
    },
    {
      "cell_type": "code",
      "metadata": {
        "colab": {
          "base_uri": "https://localhost:8080/",
          "height": 288
        },
        "id": "LDzYE2c8rRN1",
        "outputId": "d773a491-8ee6-4e02-b259-a002448e6442"
      },
      "source": [
        "\n",
        "df_2['Publicado Em'] = pd.to_datetime(df_2['Publicado Em'])\n",
        "\n",
        "df_2['Publicado Em'].value_counts().plot()\n",
        "\n"
      ],
      "execution_count": 10,
      "outputs": [
        {
          "output_type": "execute_result",
          "data": {
            "text/plain": [
              "<matplotlib.axes._subplots.AxesSubplot at 0x7fdf3eb7c050>"
            ]
          },
          "metadata": {},
          "execution_count": 10
        },
        {
          "output_type": "display_data",
          "data": {
            "image/png": "[encoded data removed]",
            "text/plain": [
              "<Figure size 432x288 with 1 Axes>"
            ]
          },
          "metadata": {
            "needs_background": "light"
          }
        }
      ]
    }
  ]
}